{
 "cells": [
  {
   "cell_type": "markdown",
   "metadata": {},
   "source": [
    "# 04 The Scale-Free Property"
   ]
  },
  {
   "cell_type": "markdown",
   "metadata": {},
   "source": [
    "## Contents\n",
    "\n",
    "01. [Introduction](#01-Introduction)"
   ]
  },
  {
   "cell_type": "code",
   "execution_count": 1,
   "metadata": {},
   "outputs": [
    {
     "name": "stdout",
     "output_type": "stream",
     "text": [
      "2019-3-28 20:8:43\n",
      "----------------------\n",
      "numpy\t\t1.15.2\n",
      "scipy\t\t1.1.0\n",
      "pandas\t\t0.24.1\n",
      "matplotlib\t3.0.0\n",
      "----------------------\n",
      "ipython\t\t7.2.0\n",
      "----------------------\n",
      "networkx\t2.2\n"
     ]
    }
   ],
   "source": [
    "# import\n",
    "import numpy as np\n",
    "import scipy\n",
    "import pandas as pd\n",
    "import matplotlib\n",
    "import matplotlib.pyplot as plt\n",
    "import IPython\n",
    "import networkx as nx\n",
    "\n",
    "from IPython.display import Image\n",
    "%matplotlib inline\n",
    "\n",
    "import datetime\n",
    "dt = datetime.datetime.now()\n",
    "\n",
    "print(\n",
    "\"\"\"{}-{}-{} {}:{}:{}\n",
    "----------------------\n",
    "numpy\\t\\t{}\n",
    "scipy\\t\\t{}\n",
    "pandas\\t\\t{}\n",
    "matplotlib\\t{}\n",
    "----------------------\n",
    "ipython\\t\\t{}\n",
    "----------------------\n",
    "networkx\\t{}\"\"\"\n",
    "    .format(dt.year, dt.month, dt.day, dt.hour, dt.minute, dt.second, np.__version__, scipy.__version__, pd.__version__, matplotlib.__version__, IPython.__version__, nx.__version__))"
   ]
  },
  {
   "cell_type": "markdown",
   "metadata": {},
   "source": [
    "## 01 Introduction"
   ]
  },
  {
   "cell_type": "code",
   "execution_count": null,
   "metadata": {},
   "outputs": [],
   "source": []
  }
 ],
 "metadata": {
  "kernelspec": {
   "display_name": "Python 3",
   "language": "python",
   "name": "python3"
  },
  "language_info": {
   "codemirror_mode": {
    "name": "ipython",
    "version": 3
   },
   "file_extension": ".py",
   "mimetype": "text/x-python",
   "name": "python",
   "nbconvert_exporter": "python",
   "pygments_lexer": "ipython3",
   "version": "3.6.5"
  }
 },
 "nbformat": 4,
 "nbformat_minor": 2
}
